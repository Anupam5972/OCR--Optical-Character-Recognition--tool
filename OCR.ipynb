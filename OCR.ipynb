{
  "nbformat": 4,
  "nbformat_minor": 0,
  "metadata": {
    "colab": {
      "provenance": []
    },
    "kernelspec": {
      "name": "python3",
      "display_name": "Python 3"
    },
    "language_info": {
      "name": "python"
    }
  },
  "cells": [
    {
      "cell_type": "markdown",
      "source": [
        "# Import Necessary Libraries"
      ],
      "metadata": {
        "id": "oJ3CzLU23jEz"
      }
    },
    {
      "cell_type": "code",
      "source": [
        "import pytesseract\n",
        "import cv2\n",
        "from PIL import Image\n",
        "from IPython.display import display\n",
        "import os"
      ],
      "metadata": {
        "id": "U-wSkA6Qgob6"
      },
      "execution_count": 26,
      "outputs": []
    },
    {
      "cell_type": "markdown",
      "source": [
        "# Set the path to the image"
      ],
      "metadata": {
        "id": "QU8Iip0E4i5w"
      }
    },
    {
      "cell_type": "code",
      "source": [
        "image_path = \"/content/drive/MyDrive/Colab Notebooks/OCR/Pic_3.png\""
      ],
      "metadata": {
        "id": "fjFLr0yxg4RS"
      },
      "execution_count": 27,
      "outputs": []
    },
    {
      "cell_type": "markdown",
      "source": [
        "# Open the image using PIL\n"
      ],
      "metadata": {
        "id": "IQ68ZbFp4mmR"
      }
    },
    {
      "cell_type": "code",
      "source": [
        "with Image.open(image_path) as img:\n",
        "    # Perform OCR on the image\n",
        "    text = pytesseract.image_to_string(img)"
      ],
      "metadata": {
        "id": "q42NS1wW4n9J"
      },
      "execution_count": 28,
      "outputs": []
    },
    {
      "cell_type": "markdown",
      "source": [
        "# Get the base name of the image file"
      ],
      "metadata": {
        "id": "AtaDGhh94pHf"
      }
    },
    {
      "cell_type": "code",
      "source": [
        "base_name = os.path.splitext(os.path.basename(image_path))[0]"
      ],
      "metadata": {
        "id": "HcERwefz4pAE"
      },
      "execution_count": 29,
      "outputs": []
    },
    {
      "cell_type": "markdown",
      "source": [
        "\n",
        "# Create a directory named 'text_files' in the same directory as the image"
      ],
      "metadata": {
        "id": "ezmlVryz4ov4"
      }
    },
    {
      "cell_type": "code",
      "source": [
        "output_dir = os.path.join(os.path.dirname(image_path), 'text_files')\n",
        "os.makedirs(output_dir, exist_ok=True)"
      ],
      "metadata": {
        "id": "MpYyw3V54uLU"
      },
      "execution_count": 30,
      "outputs": []
    },
    {
      "cell_type": "markdown",
      "source": [
        "# Create a file with the same name as the image but with '_Text' appended"
      ],
      "metadata": {
        "id": "48SDSSRr4wgT"
      }
    },
    {
      "cell_type": "code",
      "source": [
        "output_file = os.path.join(output_dir, f\"{base_name}_Text.txt\")"
      ],
      "metadata": {
        "id": "89ivDbZu4wWU"
      },
      "execution_count": 31,
      "outputs": []
    },
    {
      "cell_type": "markdown",
      "source": [
        "# Write the OCR result to the file"
      ],
      "metadata": {
        "id": "3wc1k0cE42Jg"
      }
    },
    {
      "cell_type": "code",
      "source": [
        "with open(output_file, 'w') as f:\n",
        "    f.write(text)\n",
        "print(text)"
      ],
      "metadata": {
        "colab": {
          "base_uri": "https://localhost:8080/"
        },
        "id": "BGIzudJQ42Di",
        "outputId": "b69642ea-872d-41b0-9ba6-86c182a9b223"
      },
      "execution_count": 32,
      "outputs": [
        {
          "output_type": "stream",
          "name": "stdout",
          "text": [
            "Its Emma. | tried to call you but\n",
            "signal bad. | been taken to\n",
            "hospital after having a fall this\n",
            "morning. If possible can you do\n",
            "me a quick favour and text me x\n",
            "\f\n"
          ]
        }
      ]
    },
    {
      "cell_type": "markdown",
      "source": [
        "# Print the location of the output file"
      ],
      "metadata": {
        "id": "Yrus4LJG41_R"
      }
    },
    {
      "cell_type": "code",
      "source": [
        "print(f\"Text file saved to: {output_file}\")"
      ],
      "metadata": {
        "colab": {
          "base_uri": "https://localhost:8080/"
        },
        "id": "cWCxWWoZ48KI",
        "outputId": "2767bfcd-8314-4c88-be2e-124a402b73cb"
      },
      "execution_count": 33,
      "outputs": [
        {
          "output_type": "stream",
          "name": "stdout",
          "text": [
            "Text file saved to: /content/drive/MyDrive/Colab Notebooks/OCR/text_files/Pic_3_Text.txt\n"
          ]
        }
      ]
    }
  ]
}